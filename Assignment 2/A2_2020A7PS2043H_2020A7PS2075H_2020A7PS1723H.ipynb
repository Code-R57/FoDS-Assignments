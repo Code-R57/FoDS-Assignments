{
 "cells": [
  {
   "cell_type": "markdown",
   "metadata": {},
   "source": [
    "# Assignment 2\n",
    "\n",
    "Team Members:\n",
    "- Abhinav Tyagi (2020A7PS2043H)\n",
    "- Rishiraj Datta (2020A7PS2075H)\n",
    "- Ritvik (2020A7PS1723H)"
   ]
  },
  {
   "cell_type": "code",
   "execution_count": 499,
   "metadata": {},
   "outputs": [],
   "source": [
    "import numpy as np\n",
    "import pandas as pd\n",
    "import matplotlib.pyplot as plt\n",
    "import math"
   ]
  },
  {
   "cell_type": "markdown",
   "metadata": {},
   "source": [
    "## Problem Statement\n",
    "The given dataset is used to predict application energy usage (in Wh) (in the Application\n",
    "column of the dataset) using various attributes such as temperatures, relative humidity various\n",
    "rooms in the house, windspeed, visibility, etc (in the columns: T1,RH_1,T2,RH_2,,,\n",
    "Visibility,rv1,rv2 of the dataset).\n",
    "\n",
    "Dataset: https://drive.google.com/file/d/1hkc5d67JY1eHQ6EsidRMe3rPS3v3LeGs/view?usp=share_link\n",
    "\n",
    "You are required to build a regression model to predict the application energy usage. You can\n",
    "perform data preprocessing like standardization or min-max scaling, and do a 80:20/90:10\n",
    "train-test split."
   ]
  },
  {
   "cell_type": "code",
   "execution_count": 500,
   "metadata": {},
   "outputs": [
    {
     "data": {
      "text/html": [
       "<div>\n",
       "<style scoped>\n",
       "    .dataframe tbody tr th:only-of-type {\n",
       "        vertical-align: middle;\n",
       "    }\n",
       "\n",
       "    .dataframe tbody tr th {\n",
       "        vertical-align: top;\n",
       "    }\n",
       "\n",
       "    .dataframe thead th {\n",
       "        text-align: right;\n",
       "    }\n",
       "</style>\n",
       "<table border=\"1\" class=\"dataframe\">\n",
       "  <thead>\n",
       "    <tr style=\"text-align: right;\">\n",
       "      <th></th>\n",
       "      <th>T1</th>\n",
       "      <th>RH_1</th>\n",
       "      <th>T2</th>\n",
       "      <th>RH_2</th>\n",
       "      <th>T3</th>\n",
       "      <th>RH_3</th>\n",
       "      <th>T4</th>\n",
       "      <th>RH_4</th>\n",
       "      <th>T5</th>\n",
       "      <th>RH_5</th>\n",
       "      <th>...</th>\n",
       "      <th>RH_9</th>\n",
       "      <th>T_out</th>\n",
       "      <th>Press_mm_hg</th>\n",
       "      <th>RH_out</th>\n",
       "      <th>Windspeed</th>\n",
       "      <th>Visibility</th>\n",
       "      <th>Tdewpoint</th>\n",
       "      <th>rv1</th>\n",
       "      <th>rv2</th>\n",
       "      <th>Appliances</th>\n",
       "    </tr>\n",
       "  </thead>\n",
       "  <tbody>\n",
       "    <tr>\n",
       "      <th>0</th>\n",
       "      <td>21.20</td>\n",
       "      <td>33.290</td>\n",
       "      <td>19.823333</td>\n",
       "      <td>31.790000</td>\n",
       "      <td>23.463333</td>\n",
       "      <td>38.230000</td>\n",
       "      <td>20.50</td>\n",
       "      <td>31.73</td>\n",
       "      <td>19.200000</td>\n",
       "      <td>39.363333</td>\n",
       "      <td>...</td>\n",
       "      <td>29.230000</td>\n",
       "      <td>9.85</td>\n",
       "      <td>756.183333</td>\n",
       "      <td>41.833333</td>\n",
       "      <td>4.833333</td>\n",
       "      <td>40.0</td>\n",
       "      <td>-2.67</td>\n",
       "      <td>42.017180</td>\n",
       "      <td>42.017180</td>\n",
       "      <td>290</td>\n",
       "    </tr>\n",
       "    <tr>\n",
       "      <th>1</th>\n",
       "      <td>21.79</td>\n",
       "      <td>38.500</td>\n",
       "      <td>19.500000</td>\n",
       "      <td>40.633333</td>\n",
       "      <td>22.500000</td>\n",
       "      <td>37.900000</td>\n",
       "      <td>21.00</td>\n",
       "      <td>37.90</td>\n",
       "      <td>20.033333</td>\n",
       "      <td>47.290000</td>\n",
       "      <td>...</td>\n",
       "      <td>40.326667</td>\n",
       "      <td>6.90</td>\n",
       "      <td>754.000000</td>\n",
       "      <td>75.000000</td>\n",
       "      <td>4.000000</td>\n",
       "      <td>40.0</td>\n",
       "      <td>2.80</td>\n",
       "      <td>24.624380</td>\n",
       "      <td>24.624380</td>\n",
       "      <td>50</td>\n",
       "    </tr>\n",
       "    <tr>\n",
       "      <th>2</th>\n",
       "      <td>22.39</td>\n",
       "      <td>41.390</td>\n",
       "      <td>20.200000</td>\n",
       "      <td>43.790000</td>\n",
       "      <td>24.500000</td>\n",
       "      <td>39.333333</td>\n",
       "      <td>20.10</td>\n",
       "      <td>38.26</td>\n",
       "      <td>19.390000</td>\n",
       "      <td>48.090000</td>\n",
       "      <td>...</td>\n",
       "      <td>42.060000</td>\n",
       "      <td>10.10</td>\n",
       "      <td>756.433333</td>\n",
       "      <td>68.000000</td>\n",
       "      <td>5.833333</td>\n",
       "      <td>40.0</td>\n",
       "      <td>4.45</td>\n",
       "      <td>3.731260</td>\n",
       "      <td>3.731260</td>\n",
       "      <td>260</td>\n",
       "    </tr>\n",
       "    <tr>\n",
       "      <th>3</th>\n",
       "      <td>24.00</td>\n",
       "      <td>30.260</td>\n",
       "      <td>24.390000</td>\n",
       "      <td>26.963333</td>\n",
       "      <td>23.390000</td>\n",
       "      <td>33.400000</td>\n",
       "      <td>22.79</td>\n",
       "      <td>31.20</td>\n",
       "      <td>21.033333</td>\n",
       "      <td>40.626667</td>\n",
       "      <td>...</td>\n",
       "      <td>35.500000</td>\n",
       "      <td>19.10</td>\n",
       "      <td>760.000000</td>\n",
       "      <td>31.000000</td>\n",
       "      <td>4.000000</td>\n",
       "      <td>40.0</td>\n",
       "      <td>1.50</td>\n",
       "      <td>1.058826</td>\n",
       "      <td>1.058826</td>\n",
       "      <td>50</td>\n",
       "    </tr>\n",
       "    <tr>\n",
       "      <th>4</th>\n",
       "      <td>20.05</td>\n",
       "      <td>38.245</td>\n",
       "      <td>17.600000</td>\n",
       "      <td>41.000000</td>\n",
       "      <td>21.100000</td>\n",
       "      <td>37.200000</td>\n",
       "      <td>19.89</td>\n",
       "      <td>36.40</td>\n",
       "      <td>18.200000</td>\n",
       "      <td>43.560000</td>\n",
       "      <td>...</td>\n",
       "      <td>38.863333</td>\n",
       "      <td>0.10</td>\n",
       "      <td>754.600000</td>\n",
       "      <td>99.000000</td>\n",
       "      <td>1.000000</td>\n",
       "      <td>32.0</td>\n",
       "      <td>-0.10</td>\n",
       "      <td>39.248108</td>\n",
       "      <td>39.248108</td>\n",
       "      <td>30</td>\n",
       "    </tr>\n",
       "  </tbody>\n",
       "</table>\n",
       "<p>5 rows × 27 columns</p>\n",
       "</div>"
      ],
      "text/plain": [
       "      T1    RH_1         T2       RH_2         T3       RH_3     T4   RH_4  \\\n",
       "0  21.20  33.290  19.823333  31.790000  23.463333  38.230000  20.50  31.73   \n",
       "1  21.79  38.500  19.500000  40.633333  22.500000  37.900000  21.00  37.90   \n",
       "2  22.39  41.390  20.200000  43.790000  24.500000  39.333333  20.10  38.26   \n",
       "3  24.00  30.260  24.390000  26.963333  23.390000  33.400000  22.79  31.20   \n",
       "4  20.05  38.245  17.600000  41.000000  21.100000  37.200000  19.89  36.40   \n",
       "\n",
       "          T5       RH_5  ...       RH_9  T_out  Press_mm_hg     RH_out  \\\n",
       "0  19.200000  39.363333  ...  29.230000   9.85   756.183333  41.833333   \n",
       "1  20.033333  47.290000  ...  40.326667   6.90   754.000000  75.000000   \n",
       "2  19.390000  48.090000  ...  42.060000  10.10   756.433333  68.000000   \n",
       "3  21.033333  40.626667  ...  35.500000  19.10   760.000000  31.000000   \n",
       "4  18.200000  43.560000  ...  38.863333   0.10   754.600000  99.000000   \n",
       "\n",
       "   Windspeed  Visibility  Tdewpoint        rv1        rv2  Appliances  \n",
       "0   4.833333        40.0      -2.67  42.017180  42.017180         290  \n",
       "1   4.000000        40.0       2.80  24.624380  24.624380          50  \n",
       "2   5.833333        40.0       4.45   3.731260   3.731260         260  \n",
       "3   4.000000        40.0       1.50   1.058826   1.058826          50  \n",
       "4   1.000000        32.0      -0.10  39.248108  39.248108          30  \n",
       "\n",
       "[5 rows x 27 columns]"
      ]
     },
     "execution_count": 500,
     "metadata": {},
     "output_type": "execute_result"
    }
   ],
   "source": [
    "df = pd.read_csv(\"FODS-A2.csv\")\n",
    "df.head()"
   ]
  },
  {
   "cell_type": "code",
   "execution_count": 501,
   "metadata": {},
   "outputs": [],
   "source": [
    "training_df = df.sample(frac=0.8, random_state=25)\n",
    "testing_df = df[~df.index.isin(training_df.index)]\n"
   ]
  },
  {
   "cell_type": "code",
   "execution_count": 502,
   "metadata": {},
   "outputs": [
    {
     "data": {
      "text/html": [
       "<div>\n",
       "<style scoped>\n",
       "    .dataframe tbody tr th:only-of-type {\n",
       "        vertical-align: middle;\n",
       "    }\n",
       "\n",
       "    .dataframe tbody tr th {\n",
       "        vertical-align: top;\n",
       "    }\n",
       "\n",
       "    .dataframe thead th {\n",
       "        text-align: right;\n",
       "    }\n",
       "</style>\n",
       "<table border=\"1\" class=\"dataframe\">\n",
       "  <thead>\n",
       "    <tr style=\"text-align: right;\">\n",
       "      <th></th>\n",
       "      <th>T1</th>\n",
       "      <th>RH_1</th>\n",
       "      <th>T2</th>\n",
       "      <th>RH_2</th>\n",
       "      <th>T3</th>\n",
       "      <th>RH_3</th>\n",
       "      <th>T4</th>\n",
       "      <th>RH_4</th>\n",
       "      <th>T5</th>\n",
       "      <th>RH_5</th>\n",
       "      <th>...</th>\n",
       "      <th>RH_9</th>\n",
       "      <th>T_out</th>\n",
       "      <th>Press_mm_hg</th>\n",
       "      <th>RH_out</th>\n",
       "      <th>Windspeed</th>\n",
       "      <th>Visibility</th>\n",
       "      <th>Tdewpoint</th>\n",
       "      <th>rv1</th>\n",
       "      <th>rv2</th>\n",
       "      <th>Appliances</th>\n",
       "    </tr>\n",
       "  </thead>\n",
       "  <tbody>\n",
       "    <tr>\n",
       "      <th>6</th>\n",
       "      <td>19.500000</td>\n",
       "      <td>37.59</td>\n",
       "      <td>17.290000</td>\n",
       "      <td>39.723333</td>\n",
       "      <td>20.290000</td>\n",
       "      <td>35.826667</td>\n",
       "      <td>18.666667</td>\n",
       "      <td>35.500000</td>\n",
       "      <td>17.600000</td>\n",
       "      <td>45.090000</td>\n",
       "      <td>...</td>\n",
       "      <td>37.000000</td>\n",
       "      <td>1.430</td>\n",
       "      <td>757.200000</td>\n",
       "      <td>97.666667</td>\n",
       "      <td>2.666667</td>\n",
       "      <td>53.0</td>\n",
       "      <td>1.10</td>\n",
       "      <td>40.941193</td>\n",
       "      <td>40.941193</td>\n",
       "      <td>20</td>\n",
       "    </tr>\n",
       "    <tr>\n",
       "      <th>1498</th>\n",
       "      <td>23.200000</td>\n",
       "      <td>46.50</td>\n",
       "      <td>22.730000</td>\n",
       "      <td>43.663333</td>\n",
       "      <td>22.600000</td>\n",
       "      <td>44.982222</td>\n",
       "      <td>20.790000</td>\n",
       "      <td>48.596667</td>\n",
       "      <td>21.757778</td>\n",
       "      <td>87.701667</td>\n",
       "      <td>...</td>\n",
       "      <td>46.933333</td>\n",
       "      <td>8.100</td>\n",
       "      <td>764.400000</td>\n",
       "      <td>89.000000</td>\n",
       "      <td>2.000000</td>\n",
       "      <td>40.0</td>\n",
       "      <td>6.40</td>\n",
       "      <td>0.269998</td>\n",
       "      <td>0.269998</td>\n",
       "      <td>100</td>\n",
       "    </tr>\n",
       "    <tr>\n",
       "      <th>4052</th>\n",
       "      <td>23.790000</td>\n",
       "      <td>39.20</td>\n",
       "      <td>22.790000</td>\n",
       "      <td>39.230000</td>\n",
       "      <td>21.200000</td>\n",
       "      <td>43.290000</td>\n",
       "      <td>18.600000</td>\n",
       "      <td>43.730000</td>\n",
       "      <td>18.666667</td>\n",
       "      <td>55.560000</td>\n",
       "      <td>...</td>\n",
       "      <td>46.500000</td>\n",
       "      <td>0.133</td>\n",
       "      <td>749.216667</td>\n",
       "      <td>99.000000</td>\n",
       "      <td>9.833333</td>\n",
       "      <td>37.0</td>\n",
       "      <td>0.00</td>\n",
       "      <td>34.596384</td>\n",
       "      <td>34.596384</td>\n",
       "      <td>50</td>\n",
       "    </tr>\n",
       "    <tr>\n",
       "      <th>1118</th>\n",
       "      <td>23.000000</td>\n",
       "      <td>34.59</td>\n",
       "      <td>20.533333</td>\n",
       "      <td>35.966667</td>\n",
       "      <td>23.390000</td>\n",
       "      <td>36.700000</td>\n",
       "      <td>22.760000</td>\n",
       "      <td>32.900000</td>\n",
       "      <td>20.890000</td>\n",
       "      <td>41.700000</td>\n",
       "      <td>...</td>\n",
       "      <td>38.163333</td>\n",
       "      <td>7.800</td>\n",
       "      <td>763.950000</td>\n",
       "      <td>66.333333</td>\n",
       "      <td>2.166667</td>\n",
       "      <td>40.0</td>\n",
       "      <td>1.78</td>\n",
       "      <td>19.733921</td>\n",
       "      <td>19.733921</td>\n",
       "      <td>60</td>\n",
       "    </tr>\n",
       "    <tr>\n",
       "      <th>7311</th>\n",
       "      <td>22.323333</td>\n",
       "      <td>39.50</td>\n",
       "      <td>20.200000</td>\n",
       "      <td>40.963333</td>\n",
       "      <td>22.533333</td>\n",
       "      <td>38.290000</td>\n",
       "      <td>21.290000</td>\n",
       "      <td>38.466667</td>\n",
       "      <td>20.066667</td>\n",
       "      <td>48.000000</td>\n",
       "      <td>...</td>\n",
       "      <td>37.000000</td>\n",
       "      <td>9.730</td>\n",
       "      <td>750.666667</td>\n",
       "      <td>70.000000</td>\n",
       "      <td>4.333333</td>\n",
       "      <td>40.0</td>\n",
       "      <td>4.43</td>\n",
       "      <td>24.447346</td>\n",
       "      <td>24.447346</td>\n",
       "      <td>100</td>\n",
       "    </tr>\n",
       "  </tbody>\n",
       "</table>\n",
       "<p>5 rows × 27 columns</p>\n",
       "</div>"
      ],
      "text/plain": [
       "             T1   RH_1         T2       RH_2         T3       RH_3         T4  \\\n",
       "6     19.500000  37.59  17.290000  39.723333  20.290000  35.826667  18.666667   \n",
       "1498  23.200000  46.50  22.730000  43.663333  22.600000  44.982222  20.790000   \n",
       "4052  23.790000  39.20  22.790000  39.230000  21.200000  43.290000  18.600000   \n",
       "1118  23.000000  34.59  20.533333  35.966667  23.390000  36.700000  22.760000   \n",
       "7311  22.323333  39.50  20.200000  40.963333  22.533333  38.290000  21.290000   \n",
       "\n",
       "           RH_4         T5       RH_5  ...       RH_9  T_out  Press_mm_hg  \\\n",
       "6     35.500000  17.600000  45.090000  ...  37.000000  1.430   757.200000   \n",
       "1498  48.596667  21.757778  87.701667  ...  46.933333  8.100   764.400000   \n",
       "4052  43.730000  18.666667  55.560000  ...  46.500000  0.133   749.216667   \n",
       "1118  32.900000  20.890000  41.700000  ...  38.163333  7.800   763.950000   \n",
       "7311  38.466667  20.066667  48.000000  ...  37.000000  9.730   750.666667   \n",
       "\n",
       "         RH_out  Windspeed  Visibility  Tdewpoint        rv1        rv2  \\\n",
       "6     97.666667   2.666667        53.0       1.10  40.941193  40.941193   \n",
       "1498  89.000000   2.000000        40.0       6.40   0.269998   0.269998   \n",
       "4052  99.000000   9.833333        37.0       0.00  34.596384  34.596384   \n",
       "1118  66.333333   2.166667        40.0       1.78  19.733921  19.733921   \n",
       "7311  70.000000   4.333333        40.0       4.43  24.447346  24.447346   \n",
       "\n",
       "      Appliances  \n",
       "6             20  \n",
       "1498         100  \n",
       "4052          50  \n",
       "1118          60  \n",
       "7311         100  \n",
       "\n",
       "[5 rows x 27 columns]"
      ]
     },
     "execution_count": 502,
     "metadata": {},
     "output_type": "execute_result"
    }
   ],
   "source": [
    "training_df.head()"
   ]
  },
  {
   "cell_type": "code",
   "execution_count": 503,
   "metadata": {},
   "outputs": [
    {
     "data": {
      "text/html": [
       "<div>\n",
       "<style scoped>\n",
       "    .dataframe tbody tr th:only-of-type {\n",
       "        vertical-align: middle;\n",
       "    }\n",
       "\n",
       "    .dataframe tbody tr th {\n",
       "        vertical-align: top;\n",
       "    }\n",
       "\n",
       "    .dataframe thead th {\n",
       "        text-align: right;\n",
       "    }\n",
       "</style>\n",
       "<table border=\"1\" class=\"dataframe\">\n",
       "  <thead>\n",
       "    <tr style=\"text-align: right;\">\n",
       "      <th></th>\n",
       "      <th>T1</th>\n",
       "      <th>RH_1</th>\n",
       "      <th>T2</th>\n",
       "      <th>RH_2</th>\n",
       "      <th>T3</th>\n",
       "      <th>RH_3</th>\n",
       "      <th>T4</th>\n",
       "      <th>RH_4</th>\n",
       "      <th>T5</th>\n",
       "      <th>RH_5</th>\n",
       "      <th>...</th>\n",
       "      <th>RH_9</th>\n",
       "      <th>T_out</th>\n",
       "      <th>Press_mm_hg</th>\n",
       "      <th>RH_out</th>\n",
       "      <th>Windspeed</th>\n",
       "      <th>Visibility</th>\n",
       "      <th>Tdewpoint</th>\n",
       "      <th>rv1</th>\n",
       "      <th>rv2</th>\n",
       "      <th>Appliances</th>\n",
       "    </tr>\n",
       "  </thead>\n",
       "  <tbody>\n",
       "    <tr>\n",
       "      <th>10</th>\n",
       "      <td>21.20</td>\n",
       "      <td>38.433333</td>\n",
       "      <td>18.500000</td>\n",
       "      <td>42.693333</td>\n",
       "      <td>22.600000</td>\n",
       "      <td>37.860000</td>\n",
       "      <td>19.890000</td>\n",
       "      <td>39.045000</td>\n",
       "      <td>19.790000</td>\n",
       "      <td>47.500000</td>\n",
       "      <td>...</td>\n",
       "      <td>43.163333</td>\n",
       "      <td>8.45</td>\n",
       "      <td>740.400000</td>\n",
       "      <td>73.000000</td>\n",
       "      <td>13.000000</td>\n",
       "      <td>40.000000</td>\n",
       "      <td>3.800</td>\n",
       "      <td>4.042957</td>\n",
       "      <td>4.042957</td>\n",
       "      <td>70</td>\n",
       "    </tr>\n",
       "    <tr>\n",
       "      <th>11</th>\n",
       "      <td>20.60</td>\n",
       "      <td>43.900000</td>\n",
       "      <td>18.856667</td>\n",
       "      <td>45.090000</td>\n",
       "      <td>21.390000</td>\n",
       "      <td>41.826667</td>\n",
       "      <td>20.100000</td>\n",
       "      <td>41.900000</td>\n",
       "      <td>18.790000</td>\n",
       "      <td>50.941429</td>\n",
       "      <td>...</td>\n",
       "      <td>46.095714</td>\n",
       "      <td>4.07</td>\n",
       "      <td>754.866667</td>\n",
       "      <td>95.666667</td>\n",
       "      <td>1.666667</td>\n",
       "      <td>63.666667</td>\n",
       "      <td>3.430</td>\n",
       "      <td>7.623146</td>\n",
       "      <td>7.623146</td>\n",
       "      <td>60</td>\n",
       "    </tr>\n",
       "    <tr>\n",
       "      <th>14</th>\n",
       "      <td>19.00</td>\n",
       "      <td>34.860000</td>\n",
       "      <td>16.890000</td>\n",
       "      <td>36.333333</td>\n",
       "      <td>19.533333</td>\n",
       "      <td>35.626667</td>\n",
       "      <td>18.200000</td>\n",
       "      <td>33.790000</td>\n",
       "      <td>17.290000</td>\n",
       "      <td>56.645000</td>\n",
       "      <td>...</td>\n",
       "      <td>39.966667</td>\n",
       "      <td>-0.20</td>\n",
       "      <td>761.900000</td>\n",
       "      <td>92.000000</td>\n",
       "      <td>4.000000</td>\n",
       "      <td>22.000000</td>\n",
       "      <td>-1.400</td>\n",
       "      <td>32.356099</td>\n",
       "      <td>32.356099</td>\n",
       "      <td>30</td>\n",
       "    </tr>\n",
       "    <tr>\n",
       "      <th>20</th>\n",
       "      <td>21.79</td>\n",
       "      <td>40.090000</td>\n",
       "      <td>19.533333</td>\n",
       "      <td>42.760000</td>\n",
       "      <td>22.856667</td>\n",
       "      <td>37.663333</td>\n",
       "      <td>21.856667</td>\n",
       "      <td>38.133333</td>\n",
       "      <td>19.823333</td>\n",
       "      <td>48.433333</td>\n",
       "      <td>...</td>\n",
       "      <td>42.156000</td>\n",
       "      <td>6.60</td>\n",
       "      <td>761.500000</td>\n",
       "      <td>95.000000</td>\n",
       "      <td>2.000000</td>\n",
       "      <td>25.000000</td>\n",
       "      <td>5.800</td>\n",
       "      <td>14.216779</td>\n",
       "      <td>14.216779</td>\n",
       "      <td>60</td>\n",
       "    </tr>\n",
       "    <tr>\n",
       "      <th>32</th>\n",
       "      <td>22.29</td>\n",
       "      <td>45.693333</td>\n",
       "      <td>21.666667</td>\n",
       "      <td>42.723333</td>\n",
       "      <td>21.851111</td>\n",
       "      <td>44.381111</td>\n",
       "      <td>22.222500</td>\n",
       "      <td>41.747500</td>\n",
       "      <td>19.100000</td>\n",
       "      <td>55.290000</td>\n",
       "      <td>...</td>\n",
       "      <td>46.126667</td>\n",
       "      <td>6.13</td>\n",
       "      <td>760.066667</td>\n",
       "      <td>66.000000</td>\n",
       "      <td>8.000000</td>\n",
       "      <td>40.000000</td>\n",
       "      <td>0.133</td>\n",
       "      <td>27.011352</td>\n",
       "      <td>27.011352</td>\n",
       "      <td>70</td>\n",
       "    </tr>\n",
       "  </tbody>\n",
       "</table>\n",
       "<p>5 rows × 27 columns</p>\n",
       "</div>"
      ],
      "text/plain": [
       "       T1       RH_1         T2       RH_2         T3       RH_3         T4  \\\n",
       "10  21.20  38.433333  18.500000  42.693333  22.600000  37.860000  19.890000   \n",
       "11  20.60  43.900000  18.856667  45.090000  21.390000  41.826667  20.100000   \n",
       "14  19.00  34.860000  16.890000  36.333333  19.533333  35.626667  18.200000   \n",
       "20  21.79  40.090000  19.533333  42.760000  22.856667  37.663333  21.856667   \n",
       "32  22.29  45.693333  21.666667  42.723333  21.851111  44.381111  22.222500   \n",
       "\n",
       "         RH_4         T5       RH_5  ...       RH_9  T_out  Press_mm_hg  \\\n",
       "10  39.045000  19.790000  47.500000  ...  43.163333   8.45   740.400000   \n",
       "11  41.900000  18.790000  50.941429  ...  46.095714   4.07   754.866667   \n",
       "14  33.790000  17.290000  56.645000  ...  39.966667  -0.20   761.900000   \n",
       "20  38.133333  19.823333  48.433333  ...  42.156000   6.60   761.500000   \n",
       "32  41.747500  19.100000  55.290000  ...  46.126667   6.13   760.066667   \n",
       "\n",
       "       RH_out  Windspeed  Visibility  Tdewpoint        rv1        rv2  \\\n",
       "10  73.000000  13.000000   40.000000      3.800   4.042957   4.042957   \n",
       "11  95.666667   1.666667   63.666667      3.430   7.623146   7.623146   \n",
       "14  92.000000   4.000000   22.000000     -1.400  32.356099  32.356099   \n",
       "20  95.000000   2.000000   25.000000      5.800  14.216779  14.216779   \n",
       "32  66.000000   8.000000   40.000000      0.133  27.011352  27.011352   \n",
       "\n",
       "    Appliances  \n",
       "10          70  \n",
       "11          60  \n",
       "14          30  \n",
       "20          60  \n",
       "32          70  \n",
       "\n",
       "[5 rows x 27 columns]"
      ]
     },
     "execution_count": 503,
     "metadata": {},
     "output_type": "execute_result"
    }
   ],
   "source": [
    "testing_df.head()"
   ]
  },
  {
   "cell_type": "code",
   "execution_count": 504,
   "metadata": {},
   "outputs": [],
   "source": [
    "training_data = np.array(training_df.values, 'float')\n",
    "testing_data = np.array(testing_df.values, 'float')"
   ]
  },
  {
   "cell_type": "code",
   "execution_count": 505,
   "metadata": {},
   "outputs": [],
   "source": [
    "num_rows_training, num_cols_training = training_data.shape\n",
    "num_rows_testing, num_cols_testing = testing_data.shape"
   ]
  },
  {
   "cell_type": "code",
   "execution_count": 506,
   "metadata": {},
   "outputs": [
    {
     "name": "stdout",
     "output_type": "stream",
     "text": [
      "1579\n",
      "27\n",
      "6315\n",
      "27\n"
     ]
    }
   ],
   "source": [
    "print(num_rows_testing)\n",
    "print(num_cols_testing)\n",
    "print(num_rows_training)\n",
    "print(num_cols_training)"
   ]
  },
  {
   "cell_type": "code",
   "execution_count": 507,
   "metadata": {},
   "outputs": [],
   "source": [
    "feature_sets_num = [1, 2, 3, 4, 5, 6, 7, 8, 9, 10, 11, 12, 13, 14, 15, 16, 17, 18, 19, 20, 21, 22, 23, 24, 25, 26]"
   ]
  },
  {
   "cell_type": "code",
   "execution_count": 508,
   "metadata": {},
   "outputs": [],
   "source": [
    "min_max = np.zeros([num_cols_training, 2], dtype=float)\n",
    "\n",
    "def get_min_max():\n",
    "    for i in range(0, num_cols_training):\n",
    "        min_max[i][0] = min(training_data[:,i])\n",
    "        min_max[i][1] = max(training_data[:,i])"
   ]
  },
  {
   "cell_type": "code",
   "execution_count": 509,
   "metadata": {},
   "outputs": [],
   "source": [
    "def normalize_datapoints(x, n, ind):\n",
    "    x_normalized = np.zeros(n, dtype=float)\n",
    "\n",
    "    for i in range(n) :\n",
    "        x_normalized[i] = (x[i] - min_max[ind][0])/(min_max[ind][1] - min_max[ind][0])\n",
    "\n",
    "    return x_normalized\n",
    "\n",
    "def denormalize_datapoints(x, n, ind):\n",
    "    x_denormalized = np.zeros(n, dtype=float)\n",
    "\n",
    "    for i in range(n) :\n",
    "        x_denormalized[i] = (x[i])*(min_max[ind][1] - min_max[ind][0]) + min_max[ind][0]\n",
    "    \n",
    "    return x_denormalized"
   ]
  },
  {
   "cell_type": "code",
   "execution_count": 510,
   "metadata": {},
   "outputs": [],
   "source": [
    "get_min_max()"
   ]
  },
  {
   "cell_type": "code",
   "execution_count": 511,
   "metadata": {},
   "outputs": [],
   "source": [
    "for i in range(num_cols_training-1):\n",
    "    training_data[:,i] = normalize_datapoints(training_data[:,i], num_rows_training, i)\n",
    "    testing_data[:,i] = normalize_datapoints(testing_data[:,i], num_rows_testing, i)"
   ]
  },
  {
   "cell_type": "code",
   "execution_count": 512,
   "metadata": {},
   "outputs": [],
   "source": [
    "training_data_x = training_data[:,:-1]\n",
    "training_data_t = training_data[:,-1]\n",
    "\n",
    "testing_data_x = testing_data[:,:-1]\n",
    "testing_data_t = testing_data[:,-1]"
   ]
  },
  {
   "cell_type": "code",
   "execution_count": 513,
   "metadata": {},
   "outputs": [],
   "source": [
    "def train_model(data, target) :\n",
    "    num_rows, num_cols = data.shape\n",
    "\n",
    "    w = np.zeros([num_cols], dtype=float)\n",
    "\n",
    "    det = np.linalg.det(np.dot(data.T, data))\n",
    "\n",
    "    try:\n",
    "        w = np.dot(np.dot(np.linalg.inv(np.dot(data.T, data)), data.T), target)\n",
    "    except:\n",
    "        learning_rate = 0.01\n",
    "\n",
    "        for iteration in range(5000):\n",
    "            y_pred = np.dot(data, np.transpose(w))\n",
    "            der = np.dot(np.transpose(data), y_pred - target)\n",
    "            w = np.transpose(w) - (learning_rate/num_rows)*(der)\n",
    "\n",
    "    return w"
   ]
  },
  {
   "cell_type": "code",
   "execution_count": 514,
   "metadata": {},
   "outputs": [],
   "source": [
    "def calculate_error(data, target, w, n):\n",
    "    error = np.zeros(n, dtype=float)\n",
    "\n",
    "    for i in range(n):\n",
    "        differnce = target - np.dot(data, np.transpose(w[i]))\n",
    "        error[i] = np.sqrt(np.dot(np.transpose(differnce), differnce)/(target.size))\n",
    "\n",
    "    return error"
   ]
  },
  {
   "cell_type": "markdown",
   "metadata": {},
   "source": [
    "### 2-A Correlation coefficients and Principal Component Analysis\n",
    "\n",
    "i. Select a set of 1,2,3,...26 features by checking which of these features show a\n",
    "maximum linear relationship with the target attribute by using Pearson correlation\n",
    "coefficient. Use these features to build the regression model and find the training\n",
    "and testing error for each set of features."
   ]
  },
  {
   "cell_type": "code",
   "execution_count": 515,
   "metadata": {},
   "outputs": [
    {
     "name": "stdout",
     "output_type": "stream",
     "text": [
      "[ 0.04377197  0.07502414  0.10646832 -0.0705268   0.07462763  0.02367503\n",
      "  0.032549    0.0115826   0.00789959  0.00510066  0.11930539 -0.08577211\n",
      "  0.01683884 -0.06327235  0.02569647 -0.09206786  0.00173958 -0.05505281\n",
      "  0.10062516 -0.03654494 -0.16033334  0.08725735 -0.01496686  0.01008741\n",
      " -0.00190441 -0.00190441  1.        ]\n"
     ]
    }
   ],
   "source": [
    "corr_value = np.corrcoef(training_data.T)\n",
    "\n",
    "print(corr_value[-1])"
   ]
  },
  {
   "cell_type": "code",
   "execution_count": 516,
   "metadata": {},
   "outputs": [
    {
     "name": "stdout",
     "output_type": "stream",
     "text": [
      "[ 0.04377197  0.07502414  0.10646832 -0.0705268   0.07462763  0.02367503\n",
      "  0.032549    0.0115826   0.00789959  0.00510066  0.11930539 -0.08577211\n",
      "  0.01683884 -0.06327235  0.02569647 -0.09206786  0.00173958 -0.05505281\n",
      "  0.10062516 -0.03654494 -0.16033334  0.08725735 -0.01496686  0.01008741\n",
      " -0.00190441 -0.00190441]\n"
     ]
    }
   ],
   "source": [
    "corr_value = corr_value[-1][0:-1]\n",
    "\n",
    "print(corr_value)"
   ]
  },
  {
   "cell_type": "code",
   "execution_count": 517,
   "metadata": {},
   "outputs": [
    {
     "name": "stdout",
     "output_type": "stream",
     "text": [
      "RH_out: 0.1603333387234299\n",
      "T6: 0.11930539008047673\n",
      "T2: 0.10646831604893144\n",
      "T_out: 0.10062515834755807\n",
      "RH_8: 0.09206785956452258\n",
      "Windspeed: 0.08725734570030218\n",
      "RH_6: 0.08577211037256047\n",
      "RH_1: 0.07502414297531407\n",
      "T3: 0.07462762777047857\n",
      "RH_2: 0.07052679526722619\n",
      "RH_7: 0.06327234633190461\n",
      "RH_9: 0.05505280796840861\n",
      "T1: 0.04377197355001583\n",
      "Press_mm_hg: 0.03654494149344637\n",
      "T4: 0.03254899926733223\n",
      "T8: 0.025696466335812754\n",
      "RH_3: 0.023675031328264855\n",
      "T7: 0.016838838400584033\n",
      "Visibility: 0.014966859739902435\n",
      "RH_4: 0.011582602101178528\n",
      "Tdewpoint: 0.010087406069626737\n",
      "T5: 0.007899586459726595\n",
      "RH_5: 0.005100660540351886\n",
      "rv1: 0.0019044139770705909\n",
      "rv2: 0.0019044139770705909\n",
      "T9: 0.0017395770003927047\n"
     ]
    }
   ],
   "source": [
    "corr_value = np.absolute(corr_value)\n",
    "\n",
    "index = np.flip(np.argsort(corr_value))\n",
    "\n",
    "column_headers = df.columns.values.tolist()\n",
    "\n",
    "for i in range(num_cols_training-1):\n",
    "    print(f\"{column_headers[index[i]]}: {corr_value[index[i]]}\")"
   ]
  },
  {
   "cell_type": "code",
   "execution_count": 518,
   "metadata": {},
   "outputs": [
    {
     "name": "stdout",
     "output_type": "stream",
     "text": [
      "[[1.         0.96888889 0.24717018 ... 0.81886141 0.81886141 0.26014568]\n",
      " [1.         0.85333333 0.41891101 ... 0.00529446 0.00529446 0.36420395]\n",
      " [1.         0.98666667 0.19545277 ... 0.69194291 0.69194291 0.23343739]\n",
      " ...\n",
      " [1.         0.17777778 0.92113583 ... 0.53907495 0.53907495 0.77003122]\n",
      " [1.         0.67555556 0.63065964 ... 0.18827064 0.18827064 0.94797086]\n",
      " [1.         0.96666667 0.40622561 ... 0.69155994 0.69155994 0.01838363]]\n"
     ]
    }
   ],
   "source": [
    "training_data_corr = np.zeros([num_rows_training, num_cols_training], dtype=float)\n",
    "\n",
    "training_data_corr[:,0] = np.ones(num_rows_training, dtype=float)\n",
    "\n",
    "for i in range(1, num_cols_training):\n",
    "    training_data_corr[:,i] = training_data_x[:,index[i-1]]\n",
    "\n",
    "print(training_data_corr)"
   ]
  },
  {
   "cell_type": "code",
   "execution_count": 519,
   "metadata": {},
   "outputs": [
    {
     "name": "stdout",
     "output_type": "stream",
     "text": [
      "1\n",
      "[159.87279747 -83.79232765]\n",
      "2\n",
      "[141.32237571 -71.59872633  23.69221638]\n",
      "3\n",
      "[140.84358668 -71.20185881  17.8808469    8.18192151]\n",
      "4\n",
      "[ 149.14390305  -75.80720732  224.05765031   15.0200605  -227.54138174]\n",
      "5\n",
      "[ 146.07855834  -69.08727992  218.10597027   15.94304203 -216.57638143\n",
      "   -8.95382075]\n",
      "6\n",
      "[ 121.23295681  -46.33330469  216.33278014   33.33820114 -219.46018303\n",
      "  -31.6236243    52.23401223]\n",
      "7\n",
      "[  96.76402259  -61.57352268  264.97777753   41.49127729 -204.75418405\n",
      "  -78.13402061   36.59696598   61.21322577]\n",
      "8\n",
      "[ 111.94471307  -97.04745057  220.64183891   25.87575605 -251.26111623\n",
      " -158.80204163   29.31336504   36.85752625  242.65161842]\n",
      "9\n",
      "[ 104.84284721 -141.87312544  292.54515283  -24.79095372 -337.83856107\n",
      " -157.42736802   31.79117971   77.30934837  225.32234463  106.81148357]\n",
      "10\n",
      "[ 191.49942409  -48.64577634  194.56923109 -261.95743293 -175.69939876\n",
      " -150.63910179   30.708003     64.15923299  568.51788698  225.48605355\n",
      " -504.96118851]\n",
      "11\n",
      "[ 169.50375913  -41.70345997  197.38480487 -241.71181264 -159.63461736\n",
      " -112.87246161   32.14191454   70.3069936   571.60473185  216.09583684\n",
      " -479.55187728  -69.89223914]\n",
      "12\n",
      "[ 170.45408909  -46.5268785   202.5192908  -240.55346941 -163.71256509\n",
      "  -98.12737053   32.90292829   74.84259888  573.82540804  219.53391497\n",
      " -471.31039775  -57.96878325  -38.92727604]\n",
      "13\n",
      "[ 175.33477328  -46.53683298  254.43998282 -338.44004576 -203.31066081\n",
      "  -94.66904257   31.95245067   73.74331174  638.39525005  183.17312359\n",
      " -552.26843645  -54.4074879   -32.66353114   97.02448205]\n",
      "14\n",
      "[ 174.22571466  -46.58248462  254.93768214 -338.45327212 -203.80203584\n",
      "  -94.6318447    32.22508305   73.94364592  638.4840854   183.59307067\n",
      " -552.04689329  -54.18531805  -33.08382565   97.053706      1.13930777]\n",
      "15\n",
      "[ 180.89023995  -45.47788729  244.32478151 -322.28544542 -194.88661359\n",
      "  -93.8695287    28.07610657   66.85584369  632.06187071  191.86044059\n",
      " -538.64001228  -54.58322632  -35.83056446  111.43205108    1.83111796\n",
      "  -42.10173712]\n",
      "16\n",
      "[ 177.97042156  -46.77593091  247.42344317 -320.84362869 -198.07246225\n",
      "  -94.77761645   29.00021543   68.79203424  633.34533642  190.85167998\n",
      " -541.60898424  -51.01799111  -35.5484959   102.51511172    3.51415018\n",
      "  -43.70222489   13.16730039]\n",
      "17\n",
      "[ 162.60681237  -20.18717628  269.39360368 -362.81535352 -192.68099798\n",
      " -115.8992019    30.41413635   51.47981908  566.48386602  196.69960648\n",
      " -571.5941776   -66.75712402  -59.29169467   98.21570746    4.84131288\n",
      "  -32.1838139    24.89526788  147.71696176]\n",
      "18\n",
      "[ 171.41359463  -29.6740276   262.92612946 -365.78071229 -195.29767677\n",
      " -153.29335329   27.21343532   41.20337287  562.79491157  215.82960884\n",
      " -562.77968079  -31.21454389  -35.58138978   94.79786689    5.85277679\n",
      "    2.80153209   77.6394472   130.50680942 -108.04175063]\n",
      "19\n",
      "[ 169.98799377  -30.09068688  263.20819752 -366.10539109 -196.08610053\n",
      " -153.81911634   27.27615348   41.05718465  562.99631639  216.28386199\n",
      " -562.69107685  -30.51868197  -35.49660855   94.66082988    5.69499549\n",
      "    3.06687515   77.35522106  130.38115936 -107.92733604    3.19685113]\n",
      "20\n",
      "[ 194.31961259  -33.98061125  255.72153679 -399.22170584 -203.3299237\n",
      " -158.5881151    22.96405352   37.73010053  549.29466591  222.77822543\n",
      " -602.01693226  -49.01859706  -42.80323602   85.18648379    1.89320748\n",
      "   25.72476402   74.64511119  110.56224876  -98.48506152    4.07547663\n",
      "   85.62206847]\n",
      "21\n",
      "[ 236.45556091  -84.05936623  257.54800867 -400.76657467 -296.80428878\n",
      " -156.60452316   20.49723549   41.44597796  545.87037447  223.03681454\n",
      " -608.20256229  -51.36072282  -42.03004673   87.50948287    1.29010802\n",
      "   24.90948901   73.4719257   112.78887586  -97.08701929    4.41846111\n",
      "   83.24186706   73.46111057]\n",
      "22\n",
      "[ 2.16410401e+02 -6.51539723e+01  2.44908350e+02 -3.86443085e+02\n",
      " -2.56260398e+02 -1.51223164e+02  2.00376105e+01  3.67810252e+01\n",
      "  5.37768917e+02  2.34755031e+02 -5.88065877e+02 -5.15858251e+01\n",
      " -4.96869941e+01  9.40072448e+01 -2.05895215e-01  3.57472150e+01\n",
      "  7.67924415e+01  1.05683351e+02 -8.19989099e+01  5.02708159e+00\n",
      "  9.42746874e+01  4.63087291e+01 -6.06134687e+01]\n",
      "23\n",
      "[ 2.00120690e+02 -5.49093585e+01  2.48529059e+02 -3.92374035e+02\n",
      " -2.40499389e+02 -1.56162488e+02  2.04946400e+01  3.59981354e+01\n",
      "  5.38296323e+02  2.43891811e+02 -5.89905819e+02 -5.57933045e+01\n",
      " -4.58161297e+01  9.66737437e+01  1.36349197e-01  3.69369744e+01\n",
      "  7.08587495e+01  1.01575262e+02 -7.32676221e+01  6.50637589e+00\n",
      "  9.22835114e+01  3.84864680e+01 -7.62766580e+01  3.51176851e+01]\n",
      "24\n",
      "[ 1.98735849e+02 -5.49998502e+01  2.48693623e+02 -3.92491443e+02\n",
      " -2.40794377e+02 -1.56164488e+02  2.05258249e+01  3.58656907e+01\n",
      "  5.38357356e+02  2.43737693e+02 -5.90106365e+02 -5.60330611e+01\n",
      " -4.56806262e+01  9.67812061e+01  1.60255036e-01  3.70221668e+01\n",
      "  7.08133922e+01  1.01954854e+02 -7.31715210e+01  6.54220580e+00\n",
      "  9.21602884e+01  3.86149655e+01 -7.63463657e+01  3.53244732e+01\n",
      "  2.83605126e+00]\n",
      "25\n",
      "[ 59.37363323 -25.94042099  38.97986361  25.90839388  20.5333652\n",
      " -46.84671178  40.42836068  11.53896743  53.48616197  30.91356668\n",
      "   2.92772868 -41.35911452 -23.49266774   3.2343044    8.44112624\n",
      "  -1.44145895   9.1051305   36.35341264 -16.45589461  10.91348335\n",
      "  14.12437768 -20.92066255 -24.49568518  18.98239043   2.31625977\n",
      "   2.31625977]\n",
      "26\n",
      "[ 60.48557915 -24.43007734  40.28648736  26.81240135  21.67675223\n",
      " -47.13555912  39.4154362    8.54349551  53.93032115  34.227157\n",
      "   4.42257757 -41.47831024 -23.10982078   5.73009128   8.0177202\n",
      "   2.09832728  13.07070568  35.44537683 -11.54368098  10.88859465\n",
      "  13.44702799 -18.91712564 -20.72030354  18.39092146   2.37902496\n",
      "   2.37902496 -27.00970814]\n"
     ]
    }
   ],
   "source": [
    "w_models_corr = np.zeros([num_cols_training-1, num_cols_training], dtype = float)\n",
    "\n",
    "for i in range(num_cols_training-1):\n",
    "    w_models_corr[i][:i+2] = train_model(training_data_corr[:,:i+2], training_data_t)\n",
    "\n",
    "for i in range(num_cols_training-1):\n",
    "    print(i+1)\n",
    "    print(w_models_corr[i][:i+2])"
   ]
  },
  {
   "cell_type": "code",
   "execution_count": 520,
   "metadata": {},
   "outputs": [
    {
     "name": "stdout",
     "output_type": "stream",
     "text": [
      "[[1.         0.64       0.43442623 ... 0.08076692 0.08076692 0.56191467]\n",
      " [1.         0.94222222 0.29664325 ... 0.15238328 0.15238328 0.38605619]\n",
      " [1.         0.89333333 0.16129977 ... 0.64712933 0.64712933 0.32362123]\n",
      " ...\n",
      " [1.         0.76       0.2558548  ... 0.11711171 0.11711171 0.24973985]\n",
      " [1.         0.91111111 0.24619438 ... 0.23634269 0.23634269 0.31217482]\n",
      " [1.         0.93333333 0.3808548  ... 0.27567508 0.27567508 0.5421436 ]]\n"
     ]
    }
   ],
   "source": [
    "testing_data_corr = np.zeros([num_rows_testing, num_cols_testing], dtype=float)\n",
    "\n",
    "testing_data_corr[:,0] = np.ones(num_rows_testing, dtype=float)\n",
    "\n",
    "for i in range(1, num_cols_testing):\n",
    "    testing_data_corr[:,i] = testing_data_x[:,index[i-1]]\n",
    "\n",
    "print(testing_data_corr)"
   ]
  },
  {
   "cell_type": "code",
   "execution_count": 521,
   "metadata": {},
   "outputs": [
    {
     "name": "stdout",
     "output_type": "stream",
     "text": [
      "[103.57352538 103.51470694 103.51171467 103.14741375 103.14125475\n",
      " 102.80757785 102.38986717 100.6391807  100.27866667  98.66097281\n",
      "  98.54745622  98.50114242  98.40721876  98.40706434  98.3562316\n",
      "  98.35094444  98.06406002  97.85114571  97.84949023  97.7623578\n",
      "  97.7496996   97.68052973  97.58979019  97.58640133 101.41146545\n",
      " 101.2856562 ]\n",
      "[100.79679802 100.76886637 100.72420645 100.70567044 100.68367092\n",
      " 100.18978154  99.73290607  98.01804618  97.27123788  95.5684397\n",
      "  95.67256049  95.64057926  95.75505644  95.74304862  95.64973017\n",
      "  95.58365945  95.40033988  94.92745497  94.89653379  94.89344791\n",
      "  94.90050476  94.86072077  94.75115149  94.74687677  98.24889076\n",
      "  98.12494996]\n",
      "23\n",
      "94.74687677487255\n"
     ]
    }
   ],
   "source": [
    "training_error_corr = calculate_error(training_data_corr, training_data_t, w_models_corr, num_cols_training-1)\n",
    "testing_error_corr = calculate_error(testing_data_corr, testing_data_t, w_models_corr, num_cols_training-1)\n",
    "\n",
    "print(training_error_corr)\n",
    "print(testing_error_corr)\n",
    "\n",
    "min_idx = np.argmin(testing_error_corr)\n",
    "min_testing_error_corr = testing_error_corr[min_idx]\n",
    "\n",
    "print(min_idx)\n",
    "print(testing_error_corr[min_idx])"
   ]
  },
  {
   "cell_type": "code",
   "execution_count": 522,
   "metadata": {},
   "outputs": [
    {
     "name": "stdout",
     "output_type": "stream",
     "text": [
      "    Training Error  Testing Error\n",
      "1       103.573525     100.796798\n",
      "2       103.514707     100.768866\n",
      "3       103.511715     100.724206\n",
      "4       103.147414     100.705670\n",
      "5       103.141255     100.683671\n",
      "6       102.807578     100.189782\n",
      "7       102.389867      99.732906\n",
      "8       100.639181      98.018046\n",
      "9       100.278667      97.271238\n",
      "10       98.660973      95.568440\n",
      "11       98.547456      95.672560\n",
      "12       98.501142      95.640579\n",
      "13       98.407219      95.755056\n",
      "14       98.407064      95.743049\n",
      "15       98.356232      95.649730\n",
      "16       98.350944      95.583659\n",
      "17       98.064060      95.400340\n",
      "18       97.851146      94.927455\n",
      "19       97.849490      94.896534\n",
      "20       97.762358      94.893448\n",
      "21       97.749700      94.900505\n",
      "22       97.680530      94.860721\n",
      "23       97.589790      94.751151\n",
      "24       97.586401      94.746877\n",
      "25      101.411465      98.248891\n",
      "26      101.285656      98.124950\n"
     ]
    }
   ],
   "source": [
    "corr_errors = np.append(training_error_corr.reshape([26,1]), testing_error_corr.reshape([26,1]), axis=1)\n",
    "idx_values = np.arange(1, 27, 1, dtype=int)\n",
    "col_names = ['Training Error', 'Testing Error']\n",
    "\n",
    "fwd_df = pd.DataFrame(data=corr_errors, index=idx_values, columns=col_names)\n",
    "\n",
    "print(fwd_df)"
   ]
  },
  {
   "cell_type": "code",
   "execution_count": 523,
   "metadata": {},
   "outputs": [
    {
     "data": {
      "image/png": "[encoded data removed]",
      "text/plain": [
       "<Figure size 432x288 with 1 Axes>"
      ]
     },
     "metadata": {
      "needs_background": "light"
     },
     "output_type": "display_data"
    }
   ],
   "source": [
    "# Correlation Coefficient Analysis\n",
    "\n",
    "# Plotting both the error simultaneously\n",
    "plt.plot(feature_sets_num, training_error_corr, color='r', label='training_error')\n",
    "plt.plot(feature_sets_num, testing_error_corr, color='g', label='testing_error')\n",
    "  \n",
    "# Naming the x-axis, y-axis and the whole graph\n",
    "plt.xlabel(\"Number of Features\")\n",
    "plt.ylabel(\"Error\")\n",
    "\n",
    "# Minimum index\n",
    "training_ind = np.argmin(training_error_corr)\n",
    "testing_ind = np.argmin(testing_error_corr)\n",
    "\n",
    "plt.plot(training_ind+1, training_error_corr[training_ind], marker='o')\n",
    "plt.plot(testing_ind+1, testing_error_corr[testing_ind], marker='x')\n",
    "  \n",
    "# Adding legend\n",
    "plt.legend()\n",
    "  \n",
    "# To load the display window\n",
    "plt.show()"
   ]
  },
  {
   "cell_type": "code",
   "execution_count": null,
   "metadata": {},
   "outputs": [],
   "source": [
    "print(\"Features Selected: \")\n",
    "\n",
    "for i in range(num_cols_training-1):\n",
    "    print(f\"{column_headers[features[i]]}\")"
   ]
  },
  {
   "cell_type": "markdown",
   "metadata": {},
   "source": [
    "ii. Perform Principal component analysis to select a set of 1,2,3,...26 principal\n",
    "components. Use these features to build the regression model and find the training\n",
    "and testing error for each set of features. Also find the percentage of variance\n",
    "captured by each of the feature sets."
   ]
  },
  {
   "cell_type": "code",
   "execution_count": 524,
   "metadata": {},
   "outputs": [
    {
     "name": "stdout",
     "output_type": "stream",
     "text": [
      "(26, 26)\n"
     ]
    }
   ],
   "source": [
    "covariance_matrix = np.cov(training_data_x.T)\n",
    "print(covariance_matrix.shape)"
   ]
  },
  {
   "cell_type": "code",
   "execution_count": 525,
   "metadata": {},
   "outputs": [],
   "source": [
    "eigen_values, eigen_vectors = np.linalg.eig(covariance_matrix)\n",
    "\n",
    "index = np.flip(np.argsort(eigen_values))\n",
    "eigen_values = eigen_values[index]\n",
    "eigen_vectors = eigen_vectors[:,index]"
   ]
  },
  {
   "cell_type": "code",
   "execution_count": 526,
   "metadata": {},
   "outputs": [
    {
     "name": "stdout",
     "output_type": "stream",
     "text": [
      "[ 3.61372014e-01  2.20014678e-01  1.64906732e-01  6.18716102e-02\n",
      "  3.33521294e-02  3.00750647e-02  2.12649786e-02  1.69138624e-02\n",
      "  1.45175174e-02  1.12091249e-02  8.29124940e-03  6.82052744e-03\n",
      "  5.64568103e-03  4.50776625e-03  4.19784793e-03  3.88053659e-03\n",
      "  3.08920314e-03  2.47701420e-03  1.76509792e-03  1.47305221e-03\n",
      "  1.35793899e-03  1.02229377e-03  7.49146920e-04  3.22931590e-04\n",
      "  1.26573098e-04 -6.70943045e-36]\n"
     ]
    }
   ],
   "source": [
    "print(eigen_values)"
   ]
  },
  {
   "cell_type": "code",
   "execution_count": 527,
   "metadata": {},
   "outputs": [],
   "source": [
    "sum_eigen_values = np.sum(eigen_values)"
   ]
  },
  {
   "cell_type": "code",
   "execution_count": 528,
   "metadata": {},
   "outputs": [],
   "source": [
    "variances = np.zeros(num_cols_training-1, dtype=float)\n",
    "\n",
    "for i in range(num_cols_training-1):\n",
    "    variances[i] = np.sum(eigen_values[0:i+1])/sum_eigen_values"
   ]
  },
  {
   "cell_type": "code",
   "execution_count": 529,
   "metadata": {},
   "outputs": [
    {
     "data": {
      "image/png": "[encoded data removed]",
      "text/plain": [
       "<Figure size 432x288 with 1 Axes>"
      ]
     },
     "metadata": {
      "needs_background": "light"
     },
     "output_type": "display_data"
    }
   ],
   "source": [
    "# Proportion of Variances\n",
    "plt.plot(feature_sets_num, variances, color='r', label='Variance Proportion')\n",
    "  \n",
    "# Naming the x-axis, y-axis and the whole graph\n",
    "plt.xlabel(\"Number of Axis\")\n",
    "plt.ylabel(\"Variance Proportion\")\n",
    "  \n",
    "# Adding legend\n",
    "plt.legend()\n",
    "  \n",
    "# To load the display window\n",
    "plt.show()"
   ]
  },
  {
   "cell_type": "code",
   "execution_count": 530,
   "metadata": {},
   "outputs": [
    {
     "data": {
      "image/png": "[encoded data removed]",
      "text/plain": [
       "<Figure size 432x288 with 1 Axes>"
      ]
     },
     "metadata": {
      "needs_background": "light"
     },
     "output_type": "display_data"
    }
   ],
   "source": [
    "# Proportion of Variances\n",
    "plt.plot(feature_sets_num, eigen_values/sum_eigen_values, color='r', label='Variance')\n",
    "  \n",
    "# Naming the x-axis, y-axis and the whole graph\n",
    "plt.xlabel(\"Number of Axis\")\n",
    "plt.ylabel(\"Variance about Axis\")\n",
    "  \n",
    "# Adding legend\n",
    "plt.legend()\n",
    "  \n",
    "# To load the display window\n",
    "plt.show()"
   ]
  },
  {
   "cell_type": "code",
   "execution_count": 531,
   "metadata": {},
   "outputs": [
    {
     "name": "stdout",
     "output_type": "stream",
     "text": [
      "(6315, 27)\n"
     ]
    }
   ],
   "source": [
    "w_models_pca = np.zeros([num_cols_training-1, num_cols_training], dtype = float)\n",
    "\n",
    "training_data_pca = np.dot(training_data_x, eigen_vectors.T)\n",
    "training_data_pca = np.c_[np.ones(num_rows_training), training_data_pca]\n",
    "\n",
    "print(training_data_pca.shape)"
   ]
  },
  {
   "cell_type": "code",
   "execution_count": 532,
   "metadata": {},
   "outputs": [
    {
     "name": "stdout",
     "output_type": "stream",
     "text": [
      "1\n",
      "[ 172.18770331 -125.57091993]\n",
      "2\n",
      "[ 166.769206   -119.54844734   -4.68663154]\n",
      "3\n",
      "[ 167.13694238 -119.36617665   -4.1083637    -2.60407478]\n",
      "4\n",
      "[ 172.68174985 -104.5847139   -11.90302729   32.07316973  -54.72376307]\n",
      "5\n",
      "[ 166.0657198  -102.81643455   -9.65690139   30.58997251  -65.04474563\n",
      "  -13.61082397]\n",
      "6\n",
      "[ 184.47591268 -115.73202149  -15.93016959   30.80132035  -63.86272073\n",
      "  -23.32909616  -46.3731746 ]\n",
      "7\n",
      "[ 193.42039373 -115.18856185  -21.98452867   21.02597204  -62.84470936\n",
      "  -17.06956996  -55.4569859    14.00264548]\n",
      "8\n",
      "[ 156.90798668  -73.12582424    5.11040206   -9.13871215 -114.14416269\n",
      "  -17.79284297  -12.33257556    0.86615815  -64.65359322]\n",
      "9\n",
      "[ 121.25356425  -44.75111381    7.96969026  -29.02793997 -138.64643409\n",
      "  -96.13812104   34.54434224  -42.1733778   -86.33071685  162.39951624]\n",
      "10\n",
      "[ 107.58931301  -41.3181301    -1.83825571  -50.77773492 -145.05819522\n",
      " -117.20940409   34.35262919  -88.12552763 -110.77912171  113.82080735\n",
      "  -77.02620939]\n",
      "11\n",
      "[ 115.20058894  -45.3516869    -1.55902793  -44.83399534 -143.40207813\n",
      " -118.76456943   30.98581318  -87.56022605 -107.29565239  109.45342174\n",
      "  -74.04545777    6.60625614]\n",
      "12\n",
      "[  86.97756966  -36.87093883  -20.09953009  -22.39257083 -206.00114586\n",
      " -100.67275072  -11.32672964 -138.52841544  -98.50357702   87.84416167\n",
      "  -66.39949527   42.89320383 -150.63831794]\n",
      "13\n",
      "[ 108.97090827  -51.30206266  -30.90064619  -18.60726422 -181.93078956\n",
      "  -87.69560707  -38.13861748 -136.1225725   -71.97060811   80.66875519\n",
      "  -60.41896895   42.68285625 -144.3278662   -25.37073112]\n",
      "14\n",
      "[  71.64535961  -72.85497901  -15.74447128  -31.12415847 -230.29626759\n",
      " -116.06049694   -2.35464699 -268.54045705 -145.16470866   92.959015\n",
      "  -43.02409559   54.85022354 -149.65377259  -54.77307709 -140.76499732]\n",
      "15\n",
      "[  25.8255174   -41.0652789   -17.20422201  -82.71945886 -240.75526016\n",
      " -124.33186907  -23.80929755 -227.05757665 -181.88559341   81.57298104\n",
      "  -22.68484983   46.01728112 -161.87870011  -34.21400219  -56.07871505\n",
      " -112.34226827]\n",
      "16\n",
      "[  46.2954973   -56.88095087  -24.10234771  -59.89266393 -220.89769531\n",
      " -132.09463994   38.22492084 -244.6857543  -195.06269498   87.98860299\n",
      "   -8.5693261    47.77862749 -152.1885774   -17.4786746  -122.34559136\n",
      " -100.42441598 -148.90876161]\n",
      "17\n",
      "[  46.12460279  -61.66784395  -25.00353901  -48.58429342 -219.42476776\n",
      " -140.63881161   21.30047674 -242.12794403 -184.5501393   100.1027199\n",
      "   10.85835024   51.51577584 -166.46207383  -13.88726326 -120.93523833\n",
      "  -90.27387351 -131.78009185   21.70173849]\n",
      "18\n",
      "[  41.44031602  -64.57770633  -23.27408976  -63.25488684 -220.07823751\n",
      " -137.01426643   39.52424608 -228.59892697 -192.63985348  106.32108891\n",
      "    3.95171592   47.84290222 -155.25740992   -5.30093321 -111.92134827\n",
      "  -90.12700315 -140.12792466   21.59143022  -45.04108839]\n",
      "19\n",
      "[ -64.7520184    53.19351058   50.44859884 -166.19134363 -367.42476251\n",
      " -209.03424968  212.27947927 -303.36811423 -372.54169885  187.19848434\n",
      "  -15.908296     56.46711295 -162.00917596   24.39770052 -127.68508714\n",
      " -114.8493968  -154.73093093   -4.12330084  -78.34050093   54.61092627]\n",
      "20\n",
      "[ -64.83278391   55.76491967   53.70076822 -166.86307419 -374.45829206\n",
      " -210.84398307  216.55936009 -304.7414447  -375.37079394  191.02744913\n",
      "  -13.60776443   58.25631256 -164.23691793   23.53940737 -130.57515328\n",
      " -111.88345038 -156.84757735   -3.53810613  -80.83431654   55.76472183\n",
      "  -20.79311979]\n",
      "21\n",
      "[ -15.5778964    38.42238605   40.4946526  -137.22433902 -333.10483308\n",
      " -198.70380936  199.92311475 -292.66746257 -345.16683672  180.12271908\n",
      "  -14.1730511    76.23765837 -163.48945178   18.50627547 -131.06267287\n",
      " -114.31228693 -197.35196762  -22.40046576 -116.58015649   82.14592429\n",
      "  -26.25446351  -70.00762061]\n",
      "22\n",
      "[ -15.56874565   38.46762461   40.55586659 -136.99247791 -333.10390004\n",
      " -198.46588256  199.86265465 -292.63636899 -344.85562322  180.05085188\n",
      "  -14.05693681   76.26876049 -163.25273482   18.53535203 -130.80950339\n",
      " -114.2993253  -197.13740641  -22.31854927 -116.33083177   82.1011887\n",
      "  -26.42612655  -69.89743944   -0.5438385 ]\n",
      "23\n",
      "[ -17.68841345   36.92912454   59.19701521  -38.25376739 -317.30667363\n",
      " -148.33026982  181.61884048 -277.25257529 -261.74399271  242.04703822\n",
      "  -32.36808917  114.79185393 -216.63186909   63.10471898 -107.47099372\n",
      "  -85.79446612 -124.25154857   67.56335433 -110.99777341  100.67271198\n",
      "  -28.67447988 -114.78265307   17.36590785 -333.01969711]\n",
      "24\n",
      "[ 120.79292216 -122.26021209 -127.41795989  136.73813038 -183.18444114\n",
      "  -86.26079306 -276.92342545 -115.45543568   -7.91190032   88.37083006\n",
      "  -43.55349404   42.82364097 -215.80465549  -16.95256571  -91.03399557\n",
      "  -74.9282337   -27.80551497  113.80964063  -81.54674253  -49.1430747\n",
      "  -66.75235735 -183.54979248   73.15657934 -297.50300499 -197.24094743]\n",
      "25\n",
      "[ 183.82317699 -197.33101372 -205.09871489  122.87806297 -280.88723017\n",
      " -155.92504017 -369.24511494 -164.07457538  -43.25693482  -48.20213661\n",
      "  -35.13043501  117.44355507 -268.07928894 -133.82999752  -92.33738176\n",
      " -235.92745257  -28.65462041  -32.48875271 -103.29697107 -271.86084175\n",
      "  -41.37094807 -478.04836043  139.2594717  -300.00709003 -126.09147383\n",
      "  454.1649259 ]\n",
      "26\n",
      "[ 510.22888058 -347.78738004 -212.03309567  138.7140864   -79.79269714\n",
      "   83.32094723 -381.69418933 -112.51652231   54.06382713  356.3547706\n",
      "  199.37017803  101.47989764 -312.73421648 -213.49357391 -103.02922514\n",
      " -240.59874479   82.97583766  -15.69520084  -86.02484297  -54.58998831\n",
      "  -37.64644714 -329.3394624   139.98251723 -310.45195914 -226.46795002\n",
      "  265.60751735  197.39659167]\n"
     ]
    }
   ],
   "source": [
    "for i in range(num_cols_training-1):\n",
    "    w_models_pca[i][:i+2] = train_model(training_data_pca[:,:i+2], training_data_t)\n",
    "\n",
    "for i in range(num_cols_training-1):\n",
    "    print(i+1)\n",
    "    print(w_models_pca[i][:i+2])"
   ]
  },
  {
   "cell_type": "code",
   "execution_count": 533,
   "metadata": {},
   "outputs": [
    {
     "name": "stdout",
     "output_type": "stream",
     "text": [
      "(1579, 27)\n"
     ]
    }
   ],
   "source": [
    "testing_data_pca = np.dot(testing_data_x, eigen_vectors.T)\n",
    "testing_data_pca = np.c_[np.ones(num_rows_testing), testing_data_pca]\n",
    "\n",
    "print(testing_data_pca.shape)"
   ]
  },
  {
   "cell_type": "code",
   "execution_count": 534,
   "metadata": {},
   "outputs": [
    {
     "name": "stdout",
     "output_type": "stream",
     "text": [
      "[103.37579319 103.36877354 103.36841314 103.06053402 103.05190503\n",
      " 102.98765788 102.96750547 102.87851894 102.48025002 102.22149259\n",
      " 102.21747929 101.66581772 101.626647   101.14655802 100.85054714\n",
      " 100.50456378 100.48489265 100.44610703 100.19480279 100.19009336\n",
      " 100.12711974 100.12711432  98.53536654  97.77549365  97.27617928\n",
      " 136.18700582]\n",
      "[100.84986821 100.82663486 100.81976289 100.64515066 100.58270441\n",
      " 100.65176906 100.69031018 100.65248015 100.19910749  99.99260549\n",
      " 100.04222227  99.53396045  99.48270242  99.20456677  98.66279987\n",
      "  98.45760164  98.39078627  98.16278229  97.8284453   97.81151735\n",
      "  97.6820172   97.6834768   95.07838943  94.4570462   94.35109201\n",
      " 136.50192288]\n",
      "24\n",
      "94.3510920118284\n"
     ]
    }
   ],
   "source": [
    "training_error_pca = calculate_error(training_data_pca, training_data_t, w_models_pca, num_cols_training-1)\n",
    "testing_error_pca = calculate_error(testing_data_pca, testing_data_t, w_models_pca, num_cols_training-1)\n",
    "\n",
    "print(training_error_pca)\n",
    "print(testing_error_pca)\n",
    "\n",
    "min_idx = np.argmin(testing_error_pca)\n",
    "min_testing_error_pca = testing_error_pca[min_idx]\n",
    "\n",
    "print(min_idx)\n",
    "print(testing_error_pca[min_idx])"
   ]
  },
  {
   "cell_type": "code",
   "execution_count": 535,
   "metadata": {},
   "outputs": [
    {
     "data": {
      "image/png": "[encoded data removed]",
      "text/plain": [
       "<Figure size 432x288 with 1 Axes>"
      ]
     },
     "metadata": {
      "needs_background": "light"
     },
     "output_type": "display_data"
    }
   ],
   "source": [
    "# Principal Component Analysis \n",
    "\n",
    "# Plotting both the error simultaneously\n",
    "plt.plot(feature_sets_num, training_error_pca, color='r', label='training_error')\n",
    "plt.plot(feature_sets_num, testing_error_pca, color='g', label='testing_error')\n",
    "  \n",
    "# Naming the x-axis, y-axis and the whole graph\n",
    "plt.xlabel(\"Number of Axis\")\n",
    "plt.ylabel(\"Error\")\n",
    "\n",
    "# Minimum index\n",
    "training_ind = np.argmin(training_error_pca)\n",
    "testing_ind = np.argmin(testing_error_pca)\n",
    "\n",
    "plt.plot(training_ind+1, training_error_pca[training_ind], marker='o')\n",
    "plt.plot(testing_ind+1, testing_error_pca[testing_ind], marker='x')\n",
    "  \n",
    "# Adding legend\n",
    "plt.legend()\n",
    "  \n",
    "# To load the display window\n",
    "plt.show()"
   ]
  },
  {
   "cell_type": "code",
   "execution_count": 536,
   "metadata": {},
   "outputs": [
    {
     "name": "stdout",
     "output_type": "stream",
     "text": [
      "    Training Error  Testing Error\n",
      "1       103.375793     100.849868\n",
      "2       103.368774     100.826635\n",
      "3       103.368413     100.819763\n",
      "4       103.060534     100.645151\n",
      "5       103.051905     100.582704\n",
      "6       102.987658     100.651769\n",
      "7       102.967505     100.690310\n",
      "8       102.878519     100.652480\n",
      "9       102.480250     100.199107\n",
      "10      102.221493      99.992605\n",
      "11      102.217479     100.042222\n",
      "12      101.665818      99.533960\n",
      "13      101.626647      99.482702\n",
      "14      101.146558      99.204567\n",
      "15      100.850547      98.662800\n",
      "16      100.504564      98.457602\n",
      "17      100.484893      98.390786\n",
      "18      100.446107      98.162782\n",
      "19      100.194803      97.828445\n",
      "20      100.190093      97.811517\n",
      "21      100.127120      97.682017\n",
      "22      100.127114      97.683477\n",
      "23       98.535367      95.078389\n",
      "24       97.775494      94.457046\n",
      "25       97.276179      94.351092\n",
      "26      136.187006     136.501923\n"
     ]
    }
   ],
   "source": [
    "pca_errors = np.append(training_error_pca.reshape([26,1]), testing_error_pca.reshape([26,1]), axis=1)\n",
    "idx_values = np.arange(1, 27, 1, dtype=int)\n",
    "col_names = ['Training Error', 'Testing Error']\n",
    "\n",
    "fwd_df = pd.DataFrame(data=pca_errors, index=idx_values, columns=col_names)\n",
    "\n",
    "print(fwd_df)"
   ]
  },
  {
   "attachments": {},
   "cell_type": "markdown",
   "metadata": {},
   "source": [
    "### 2-B Greedy Forward and Backward Feature Selection\n",
    "\n",
    "Perform (i) greedy forward feature selection and (ii) greedy backward feature selection to find the subset of features that make the optimal regression model.\n",
    "\n",
    "Find the minimum training and testing error of the optimal model (using 1,2,3,...26 features)."
   ]
  },
  {
   "attachments": {},
   "cell_type": "markdown",
   "metadata": {},
   "source": [
    "#### (i) greedy forward feature selection"
   ]
  },
  {
   "cell_type": "code",
   "execution_count": 537,
   "metadata": {},
   "outputs": [],
   "source": [
    "def error_function(data, target, w):\n",
    "    \n",
    "    differnce = target - np.dot(data, np.transpose(w))\n",
    "    error = np.sqrt(np.dot(np.transpose(differnce), differnce)/(target.size))\n",
    "\n",
    "    return error"
   ]
  },
  {
   "cell_type": "code",
   "execution_count": 538,
   "metadata": {},
   "outputs": [],
   "source": [
    "training_forward_df = training_df.sample(frac=0.75, random_state=25)\n",
    "validation_forward_df = training_df[~training_df.index.isin(training_forward_df.index)]"
   ]
  },
  {
   "cell_type": "code",
   "execution_count": 539,
   "metadata": {},
   "outputs": [],
   "source": [
    "training_forward_data = np.array(training_forward_df.values, 'float')\n",
    "validation_forward_data = np.array(validation_forward_df.values, 'float')\n",
    "\n",
    "num_rows_training_forward, num_cols_training_forward = training_forward_data.shape\n",
    "num_rows_validation_forward, num_cols_validation_forward = validation_forward_data.shape"
   ]
  },
  {
   "cell_type": "code",
   "execution_count": 540,
   "metadata": {},
   "outputs": [],
   "source": [
    "for i in range(num_cols_training-1):\n",
    "    training_forward_data[:,i] = normalize_datapoints(training_forward_data[:,i], num_rows_training_forward, i)\n",
    "    validation_forward_data[:,i] = normalize_datapoints(validation_forward_data[:,i], num_rows_validation_forward, i)"
   ]
  },
  {
   "cell_type": "code",
   "execution_count": 541,
   "metadata": {},
   "outputs": [],
   "source": [
    "training_forward_x = training_forward_data[:,:-1]\n",
    "training_forward_t = training_forward_data[:,-1]\n",
    "\n",
    "validation_forward_x = validation_forward_data[:,:-1]\n",
    "validation_forward_t = validation_forward_data[:,-1]"
   ]
  },
  {
   "cell_type": "code",
   "execution_count": 542,
   "metadata": {},
   "outputs": [],
   "source": [
    "w_models_forward = np.zeros([1, num_cols_training], dtype=float)\n",
    "\n",
    "check_array = np.zeros(num_cols_training-1, dtype=float)\n",
    "validation_forward_error_array = np.zeros(num_cols_training-1, dtype=float)\n",
    "testing_forward_error_array = np.zeros(num_cols_testing-1, dtype=float)\n",
    "\n",
    "training_data_x_forward = np.ones([num_rows_training_forward, 1], dtype=float)\n",
    "validation_data_x_forward = np.ones([num_rows_validation_forward, 1], dtype=float)\n",
    "\n",
    "validation_forward_error = math.inf\n",
    "\n",
    "features = np.zeros(27, dtype=int)\n",
    "\n",
    "feature_pred = -1\n",
    "\n",
    "for loop in range(num_cols_training-1):\n",
    "\n",
    "    error = math.inf\n",
    "    feature_pred = -1\n",
    "\n",
    "    for i in range(num_cols_training-1):\n",
    "        \n",
    "        if check_array[i] == 1:\n",
    "            continue\n",
    "        \n",
    "        training_data_x_forward_temp = training_data_x_forward\n",
    "        validation_data_x_forward_temp = validation_data_x_forward\n",
    "\n",
    "        training_data_x_forward_temp = np.append(training_data_x_forward_temp, training_forward_x[:,i:i+1], axis=1)\n",
    "        validation_data_x_forward_temp = np.append(validation_data_x_forward_temp, validation_forward_x[:,i:i+1], axis=1)\n",
    "        \n",
    "        w_models_forward_temp = train_model(training_data_x_forward_temp, training_forward_t).reshape([1,loop+2])\n",
    "        \n",
    "        validation_error = calculate_error(validation_data_x_forward_temp, validation_forward_t, w_models_forward_temp, 1)\n",
    "        \n",
    "        if validation_error < validation_forward_error:\n",
    "            validation_forward_error = validation_error\n",
    "            validation_forward_error_array[loop] = validation_forward_error\n",
    "            w_models_forward[0][:loop+2] = w_models_forward_temp\n",
    "            feature_pred = i\n",
    "\n",
    "    if feature_pred == -1:\n",
    "        validation_forward_error_array[loop] = validation_error\n",
    "        features[loop] = feature_pred\n",
    "        break\n",
    "    \n",
    "    check_array[feature_pred] = 1\n",
    "    features[loop] = feature_pred\n",
    "\n",
    "    testing_x_temp = np.ones([num_rows_testing,1], dtype=float)\n",
    "\n",
    "    for f in range(loop+1):\n",
    "        feat = int(features[f])\n",
    "        testing_x_temp = np.append(testing_x_temp, testing_data_x[:,feat:feat+1], axis=1)\n",
    "\n",
    "    w_models_temp = np.zeros([1, loop+2], dtype=float)\n",
    "    \n",
    "    for w in range(loop+2):\n",
    "        val = w_models_forward[0][w]\n",
    "        w_models_temp[0][w] = val\n",
    "\n",
    "\n",
    "    testing_forward_error_array[loop] = calculate_error(testing_x_temp, testing_data_t, w_models_temp, 1)\n",
    "    training_data_x_forward = np.append(training_data_x_forward, training_forward_x[:,feature_pred:feature_pred+1], axis=1)\n",
    "    validation_data_x_forward = np.append(validation_data_x_forward, validation_forward_x[:,feature_pred:feature_pred+1], axis=1)\n"
   ]
  },
  {
   "cell_type": "code",
   "execution_count": 543,
   "metadata": {},
   "outputs": [
    {
     "name": "stdout",
     "output_type": "stream",
     "text": [
      "Features Selected: \n",
      "RH_out\n",
      "RH_1\n",
      "RH_8\n",
      "RH_2\n",
      "Windspeed\n",
      "T7\n",
      "T3\n",
      "T2\n",
      "T1\n",
      "RH_4\n",
      "T6\n",
      "T_out\n",
      "RH_3\n",
      "T8\n",
      "RH_6\n",
      "T4\n",
      "T9\n",
      "RH_9\n",
      "T5\n",
      "rv1\n"
     ]
    }
   ],
   "source": [
    "print(\"Features Selected: \")\n",
    "\n",
    "for i in range(num_cols_training-1):\n",
    "    if features[i] == -1:\n",
    "        break\n",
    "    print(f\"{column_headers[features[i]]}\")"
   ]
  },
  {
   "cell_type": "code",
   "execution_count": 544,
   "metadata": {},
   "outputs": [
    {
     "data": {
      "image/png": "[encoded data removed]",
      "text/plain": [
       "<Figure size 432x288 with 1 Axes>"
      ]
     },
     "metadata": {
      "needs_background": "light"
     },
     "output_type": "display_data"
    }
   ],
   "source": [
    "plt.xlabel('No. of features included')\n",
    "plt.ylabel('Root Mean Sqaure Error')\n",
    "\n",
    "num_features = 21\n",
    "\n",
    "min_idx = np.argmin(validation_forward_error_array[:num_features])\n",
    "\n",
    "i_x = (feature_sets_num[min_idx])\n",
    "i_y = (validation_forward_error_array[min_idx])\n",
    "plt.scatter(i_x,i_y)\n",
    "plt.text(i_x, i_y, '  ({}, {})'.format(i_x, i_y))\n",
    "\n",
    "plt.plot(feature_sets_num[:num_features], validation_forward_error_array[:num_features], color='r', label='training_error')\n",
    "# plt.plot(feature_sets_num[:num_features], testing_forward_error_array[:num_features], color='b', label='testing_error')\n",
    "\n",
    "plt.legend()\n",
    "\n",
    "plt.show()"
   ]
  },
  {
   "cell_type": "code",
   "execution_count": 545,
   "metadata": {},
   "outputs": [
    {
     "data": {
      "image/png": "[encoded data removed]",
      "text/plain": [
       "<Figure size 432x288 with 1 Axes>"
      ]
     },
     "metadata": {
      "needs_background": "light"
     },
     "output_type": "display_data"
    }
   ],
   "source": [
    "plt.xlabel('No. of features included')\n",
    "plt.ylabel('Root Mean Sqaure Error')\n",
    "\n",
    "num_features = 20\n",
    "\n",
    "min_idx = np.argmin(testing_forward_error_array[:num_features])\n",
    "min_error_fwd = testing_forward_error_array[min_idx]\n",
    "\n",
    "i_x = (feature_sets_num[min_idx])\n",
    "i_y = (testing_forward_error_array[min_idx])\n",
    "plt.scatter(i_x,i_y)\n",
    "plt.text(i_x, i_y, '  ({}, {})'.format(i_x, i_y))\n",
    "\n",
    "# plt.plot(feature_sets_num[:num_features], validation_forward_error_array[:num_features], color='r', label='training_error')\n",
    "plt.plot(feature_sets_num[:num_features], testing_forward_error_array[:num_features], color='b', label='testing_error')\n",
    "\n",
    "plt.legend()\n",
    "\n",
    "plt.show()"
   ]
  },
  {
   "cell_type": "code",
   "execution_count": 546,
   "metadata": {},
   "outputs": [
    {
     "data": {
      "image/png": "[encoded data removed]",
      "text/plain": [
       "<Figure size 432x288 with 1 Axes>"
      ]
     },
     "metadata": {
      "needs_background": "light"
     },
     "output_type": "display_data"
    }
   ],
   "source": [
    "plt.xlabel('No. of features included')\n",
    "plt.ylabel('Root Mean Sqaure Error')\n",
    "\n",
    "num_features = 20\n",
    "\n",
    "min_idx = np.argmin(validation_forward_error_array[:num_features])\n",
    "i_x = (feature_sets_num[min_idx])\n",
    "i_y = (validation_forward_error_array[min_idx])\n",
    "plt.scatter(i_x,i_y)\n",
    "\n",
    "min_idx = np.argmin(testing_forward_error_array[:num_features])\n",
    "i_x = (feature_sets_num[min_idx])\n",
    "i_y = (testing_forward_error_array[min_idx])\n",
    "plt.scatter(i_x,i_y)\n",
    "\n",
    "plt.plot(feature_sets_num[:num_features], validation_forward_error_array[:num_features], color='r', label='training_error')\n",
    "plt.plot(feature_sets_num[:num_features], testing_forward_error_array[:num_features], color='b', label='testing_error')\n",
    "\n",
    "plt.legend()\n",
    "\n",
    "plt.show()"
   ]
  },
  {
   "cell_type": "code",
   "execution_count": 547,
   "metadata": {},
   "outputs": [
    {
     "name": "stdout",
     "output_type": "stream",
     "text": [
      "    Training Error  Testing Error\n",
      "1       101.365302     100.829199\n",
      "2       100.540350      99.982648\n",
      "3        99.417249      98.685852\n",
      "4        98.358938      97.828126\n",
      "5        97.949752      97.546865\n",
      "6        97.829592      97.550532\n",
      "7        96.830701      96.354096\n",
      "8        96.555934      95.551726\n",
      "9        96.332769      95.484140\n",
      "10       96.218242      95.388117\n",
      "11       96.150856      95.464914\n",
      "12       95.954213      95.509738\n",
      "13       95.827826      95.418654\n",
      "14       95.727259      94.972024\n",
      "15       95.689237      94.809872\n",
      "16       95.650942      94.804854\n",
      "17       95.564946      94.154777\n",
      "18       95.556018      94.166222\n",
      "19       95.543176      94.179559\n",
      "20       95.538655      94.178460\n",
      "21       98.891754       0.000000\n"
     ]
    }
   ],
   "source": [
    "fwd_errors = np.append(validation_forward_error_array.reshape([26,1]), testing_forward_error_array.reshape([26,1]), axis=1)\n",
    "idx_values = np.arange(1, 22, 1, dtype=int)\n",
    "col_names = ['Training Error', 'Testing Error']\n",
    "\n",
    "fwd_df = pd.DataFrame(data=fwd_errors[:21,:], index=idx_values, columns=col_names)\n",
    "\n",
    "print(fwd_df)"
   ]
  },
  {
   "attachments": {},
   "cell_type": "markdown",
   "metadata": {},
   "source": [
    "#### (ii) greedy backward feature selection"
   ]
  },
  {
   "cell_type": "code",
   "execution_count": 548,
   "metadata": {},
   "outputs": [],
   "source": [
    "training_backward_data = training_forward_data\n",
    "validation_backward_data = validation_forward_data\n",
    "\n",
    "num_rows_training_backward, num_cols_training_backward = training_backward_data.shape\n",
    "num_rows_validation_backward, num_cols_validation_backward = validation_backward_data.shape"
   ]
  },
  {
   "cell_type": "code",
   "execution_count": 549,
   "metadata": {},
   "outputs": [],
   "source": [
    "training_backward_x = training_backward_data[:,:-1]\n",
    "training_backward_t = training_backward_data[:,-1]\n",
    "\n",
    "validation_backward_x = validation_backward_data[:,:-1]\n",
    "validation_backward_t = validation_backward_data[:,-1]"
   ]
  },
  {
   "cell_type": "code",
   "execution_count": 550,
   "metadata": {},
   "outputs": [],
   "source": [
    "# w_models_backward = np.zeros([1, num_cols_training], dtype=float)\n",
    "w_models_backward = 0\n",
    "\n",
    "check_array = np.zeros(num_cols_training-1, dtype=float)\n",
    "validation_backward_error_array = np.zeros(num_cols_training-1, dtype=float)\n",
    "testing_backward_error_array = np.zeros(num_cols_testing-1, dtype=float)\n",
    "\n",
    "training_data_x_backward = np.ones([num_rows_training_backward, 1], dtype=float)\n",
    "training_data_x_backward = np.append(training_data_x_backward, training_backward_x, axis=1)\n",
    "\n",
    "validation_data_x_backward = np.ones([num_rows_validation_backward, 1], dtype=float)\n",
    "validation_data_x_backward = np.append(validation_data_x_backward, validation_backward_x, axis=1)\n",
    "\n",
    "w_models_backward = train_model(training_data_x_backward, training_backward_t).reshape([1,27])\n",
    "validation_backward_error_initial = calculate_error(validation_data_x_backward, validation_backward_t, w_models_backward, 1)\n",
    "validation_backward_error = validation_backward_error_initial\n",
    "\n",
    "testing_data_x_backward = np.ones([num_rows_testing, 1], dtype=float)\n",
    "testing_data_x_backward = np.append(testing_data_x_backward, testing_data_x, axis=1)\n",
    "\n",
    "testing_backward_error_initial = calculate_error(testing_data_x_backward, testing_data_t, w_models_backward, 1)\n",
    "\n",
    "# print(validation_backward_error)\n",
    "\n",
    "feature_pred = -1\n",
    "\n",
    "features = np.zeros(27, dtype=int)\n",
    "\n",
    "num_cols_backward = num_cols_training\n",
    "\n",
    "for loop in range(num_cols_training-1):\n",
    "\n",
    "    error = math.inf\n",
    "    feature_pred = -1\n",
    "\n",
    "    for i in range(num_cols_backward-1):\n",
    "\n",
    "        if check_array[i] == 1:\n",
    "            continue\n",
    "\n",
    "        training_data_x_backward_temp = training_data_x_backward\n",
    "        validation_data_x_backward_temp = validation_data_x_backward\n",
    "\n",
    "        training_data_x_backward_temp = np.delete(training_data_x_backward_temp, i+1, axis=1)\n",
    "        validation_data_x_backward_temp = np.delete(validation_data_x_backward_temp, i+1, axis=1)\n",
    "\n",
    "        w_models_backward_temp = train_model(training_data_x_backward_temp, training_backward_t).reshape([1,26-loop])\n",
    "\n",
    "        validation_error_local = calculate_error(validation_data_x_backward_temp, validation_backward_t, w_models_backward_temp, 1)\n",
    "\n",
    "        if validation_error_local < validation_backward_error:\n",
    "            validation_backward_error = validation_error_local\n",
    "            validation_backward_error_array[loop+1] = validation_backward_error\n",
    "            # w_models_backward[0][:26-loop] = w_models_backward_temp\n",
    "            w_models_backward = w_models_backward_temp\n",
    "            feature_pred = i\n",
    "\n",
    "    if feature_pred == -1:\n",
    "        validation_backward_error_array[loop+1] = validation_error_local\n",
    "        features[loop] = feature_pred\n",
    "        break\n",
    "    \n",
    "    check_array[feature_pred] = 1\n",
    "\n",
    "    features[loop] = feature_pred\n",
    "\n",
    "    testing_x_temp = np.ones([num_rows_testing,1], dtype=float)\n",
    "    # testing_x_temp = np.append(testing_x_temp, testing_data_x, axis=1)\n",
    "\n",
    "    for f in range(26):\n",
    "        if check_array[f] == 0:\n",
    "            testing_x_temp = np.append(testing_x_temp, testing_data_x[:,f:f+1], axis=1)\n",
    "\n",
    "    w_models_temp = np.zeros([1, 26-loop], dtype=float)\n",
    "    \n",
    "    for w in range(26-loop):\n",
    "        val = w_models_backward[0][w]\n",
    "        w_models_temp[0][w] = val\n",
    "\n",
    "    # print(w_models_temp)\n",
    "\n",
    "    testing_backward_error_array[loop+1] = calculate_error(testing_x_temp, testing_data_t, w_models_temp, 1)\n",
    "\n",
    "    training_data_x_backward = np.delete(training_data_x_backward, feature_pred+1, axis=1)\n",
    "    validation_data_x_backward = np.delete(validation_data_x_backward, feature_pred+1, axis=1)\n",
    "\n",
    "    num_cols_backward = num_cols_backward - 1"
   ]
  },
  {
   "cell_type": "code",
   "execution_count": 551,
   "metadata": {},
   "outputs": [
    {
     "name": "stdout",
     "output_type": "stream",
     "text": [
      "Features Removed: \n",
      "rv1\n",
      "T7\n",
      "RH_5\n",
      "T_out\n",
      "RH_out\n",
      "Press_mm_hg\n"
     ]
    }
   ],
   "source": [
    "print(\"Features Removed: \")\n",
    "\n",
    "for i in range(num_cols_training-1):\n",
    "    if features[i] == -1:\n",
    "        break\n",
    "    print(f\"{column_headers[features[i]]}\")"
   ]
  },
  {
   "cell_type": "code",
   "execution_count": 552,
   "metadata": {},
   "outputs": [],
   "source": [
    "validation_backward_error_array[0] = validation_backward_error_initial\n",
    "testing_backward_error_array[0] = testing_backward_error_initial"
   ]
  },
  {
   "cell_type": "code",
   "execution_count": 553,
   "metadata": {},
   "outputs": [],
   "source": [
    "backward_error_array = np.zeros(26, dtype=float)\n",
    "\n",
    "for i in range(26):\n",
    "    val = validation_backward_error_array[25-i]\n",
    "    backward_error_array[i] = val\n",
    "\n",
    "backward_testing_error_array = np.zeros(26, dtype=float)\n",
    "\n",
    "for i in range(26):\n",
    "    val = testing_backward_error_array[25-i]\n",
    "    backward_testing_error_array[i] = val\n",
    "    "
   ]
  },
  {
   "cell_type": "code",
   "execution_count": 554,
   "metadata": {},
   "outputs": [
    {
     "data": {
      "image/png": "[encoded data removed]",
      "text/plain": [
       "<Figure size 432x288 with 1 Axes>"
      ]
     },
     "metadata": {
      "needs_background": "light"
     },
     "output_type": "display_data"
    }
   ],
   "source": [
    "num_features = 18\n",
    "\n",
    "plt.xlabel('No. of features included')\n",
    "plt.ylabel('Root Mean Sqaure Error')\n",
    "\n",
    "# min_idx = np.argmin(backward_error_array[num_features:])\n",
    "min_idx = 19\n",
    "i_x = (feature_sets_num[min_idx])\n",
    "i_y = (backward_error_array[min_idx])\n",
    "plt.scatter(i_x,i_y)\n",
    "plt.text(i_x, i_y, '  ({}, {})'.format(i_x, i_y))\n",
    "\n",
    "plt.plot(feature_sets_num[num_features:], backward_error_array[num_features:], color='r', label='training_error')\n",
    "# plt.plot(feature_sets_num[num_features:], backward_testing_error_array[num_features:], color='b', label='testing_error')\n",
    "\n",
    "plt.legend()\n",
    "\n",
    "plt.show()"
   ]
  },
  {
   "cell_type": "code",
   "execution_count": 555,
   "metadata": {},
   "outputs": [
    {
     "name": "stdout",
     "output_type": "stream",
     "text": [
      "94.24480864557479\n"
     ]
    },
    {
     "data": {
      "image/png": "[encoded data removed]",
      "text/plain": [
       "<Figure size 432x288 with 1 Axes>"
      ]
     },
     "metadata": {
      "needs_background": "light"
     },
     "output_type": "display_data"
    }
   ],
   "source": [
    "num_features = 21\n",
    "\n",
    "plt.xlabel('No. of features included')\n",
    "plt.ylabel('Root Mean Sqaure Error')\n",
    "\n",
    "# min_idx = np.argmin(backward_error_array[num_features:])\n",
    "min_idx = 23\n",
    "min_error_bwd = backward_testing_error_array[23]\n",
    "print(min_error_bwd)\n",
    "\n",
    "i_x = (feature_sets_num[min_idx])\n",
    "i_y = (backward_testing_error_array[min_idx])\n",
    "plt.scatter(i_x,i_y)\n",
    "plt.text(i_x, i_y, '  ({}, {})'.format(i_x, i_y))\n",
    "\n",
    "# plt.plot(feature_sets_num[num_features:], backward_error_array[num_features:], color='r', label='training_error')\n",
    "plt.plot(feature_sets_num[num_features:], backward_testing_error_array[num_features:], color='b', label='testing_error')\n",
    "\n",
    "plt.legend()\n",
    "\n",
    "plt.show()"
   ]
  },
  {
   "cell_type": "code",
   "execution_count": 556,
   "metadata": {},
   "outputs": [
    {
     "name": "stdout",
     "output_type": "stream",
     "text": [
      "    Training Error  Testing Error\n",
      "20       95.413093     106.630224\n",
      "21       95.415608     108.379569\n",
      "22       95.421875     109.564684\n",
      "23       95.449757      94.295111\n",
      "24       95.547902      94.244809\n",
      "25       95.684780      94.325599\n",
      "26      153.350869     153.736541\n"
     ]
    }
   ],
   "source": [
    "bwd_errors = np.append(backward_error_array.reshape([26,1]), backward_testing_error_array.reshape([26,1]), axis=1)\n",
    "idx_values = np.arange(1, 27, 1, dtype=int)\n",
    "col_names = ['Training Error', 'Testing Error']\n",
    "\n",
    "bwd_df = pd.DataFrame(data=bwd_errors, index=idx_values, columns=col_names)\n",
    "\n",
    "print(bwd_df[19:])"
   ]
  },
  {
   "attachments": {},
   "cell_type": "markdown",
   "metadata": {},
   "source": [
    "### 2-C Comparative Analysis\n",
    "\n",
    "Perform comparative analysis of the best models obtained using each of the feature selection \n",
    "techniques (from 2-A and 2-B) and the performance with the regression model using all the \n",
    "features."
   ]
  },
  {
   "cell_type": "code",
   "execution_count": 557,
   "metadata": {},
   "outputs": [],
   "source": [
    "w_models_regression = train_model(training_data_x, training_data_t).reshape([1,26])\n",
    "error_regression = calculate_error(testing_data_x, testing_data_t, w_models_regression, 1)"
   ]
  },
  {
   "cell_type": "code",
   "execution_count": 558,
   "metadata": {},
   "outputs": [
    {
     "name": "stdout",
     "output_type": "stream",
     "text": [
      "                        Error\n",
      "PCC                 94.746877\n",
      "PCA                 94.351092\n",
      "Forward Selection   94.154777\n",
      "Backward Selection  94.244809\n",
      "Regression Model    98.048048\n"
     ]
    }
   ],
   "source": [
    "models = ['PCC', 'PCA', 'Forward Selection', 'Backward Selection', 'Regression Model']\n",
    "errors = [min_testing_error_corr, min_testing_error_pca, min_error_fwd, min_error_bwd, error_regression[0]]\n",
    "col_names = ['Error']\n",
    "\n",
    "errors_df = pd.DataFrame(data=errors, index=models, columns=col_names)\n",
    "\n",
    "print(errors_df)"
   ]
  },
  {
   "cell_type": "code",
   "execution_count": 559,
   "metadata": {},
   "outputs": [
    {
     "data": {
      "image/png": "[encoded data removed]",
      "text/plain": [
       "<Figure size 432x288 with 1 Axes>"
      ]
     },
     "metadata": {
      "needs_background": "light"
     },
     "output_type": "display_data"
    }
   ],
   "source": [
    "plt.xlabel('Root Mean Sqaure Error')\n",
    "plt.ylabel('Model')\n",
    "\n",
    "plt.barh(models, errors, color='b', height=0.3)\n",
    "\n",
    "ax = plt.gca()\n",
    "ax.set_xlim([93.5, 98.5])\n",
    "\n",
    "plt.show()"
   ]
  }
 ],
 "metadata": {
  "kernelspec": {
   "display_name": "Python 3",
   "language": "python",
   "name": "python3"
  },
  "language_info": {
   "codemirror_mode": {
    "name": "ipython",
    "version": 3
   },
   "file_extension": ".py",
   "mimetype": "text/x-python",
   "name": "python",
   "nbconvert_exporter": "python",
   "pygments_lexer": "ipython3",
   "version": "3.10.5"
  },
  "orig_nbformat": 4,
  "vscode": {
   "interpreter": {
    "hash": "1c6a8e54cef8c7ee1a22eb0ca3c351af1a4eff08b7f495a5b026b7ca84a3a8fc"
   }
  }
 },
 "nbformat": 4,
 "nbformat_minor": 2
}
